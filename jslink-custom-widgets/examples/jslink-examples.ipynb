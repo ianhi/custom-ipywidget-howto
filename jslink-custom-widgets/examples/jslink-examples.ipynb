{
 "cells": [
  {
   "cell_type": "code",
   "execution_count": 31,
   "metadata": {},
   "outputs": [],
   "source": [
    "import jslink_custom_widgets"
   ]
  },
  {
   "cell_type": "code",
   "execution_count": 32,
   "metadata": {},
   "outputs": [
    {
     "data": {
      "application/vnd.jupyter.widget-view+json": {
       "model_id": "b4567cfc69e843a0ab1bf287859ddc3b",
       "version_major": 2,
       "version_minor": 0
      },
      "text/plain": [
       "widget1()"
      ]
     },
     "metadata": {},
     "output_type": "display_data"
    },
    {
     "data": {
      "application/vnd.jupyter.widget-view+json": {
       "model_id": "2565324319214579836d070bdc08cc4e",
       "version_major": 2,
       "version_minor": 0
      },
      "text/plain": [
       "widget2()"
      ]
     },
     "metadata": {},
     "output_type": "display_data"
    }
   ],
   "source": [
    "w1 = jslink_custom_widgets.widget1()\n",
    "w2 = jslink_custom_widgets.widget2()\n",
    "\n",
    "display(w1)\n",
    "display(w2)"
   ]
  },
  {
   "cell_type": "markdown",
   "metadata": {},
   "source": [
    "## At first changing the value of one will not affect the other\n"
   ]
  },
  {
   "cell_type": "code",
   "execution_count": 33,
   "metadata": {},
   "outputs": [],
   "source": [
    "w2.value2 = \"won't change both :(\""
   ]
  },
  {
   "cell_type": "markdown",
   "metadata": {},
   "source": [
    "But if we use ipywidgets.jslink ([ref](https://ipywidgets.readthedocs.io/en/latest/examples/Widget%20Events.html#Linking-widgets-attributes-from-the-client-side)) then the \n",
    "\n",
    "I always thought that jslink was only for the official widgets but it turns out it's general which is awesome\n",
    "\n",
    "not sure if there is much useful to do with the returned link object"
   ]
  },
  {
   "cell_type": "code",
   "execution_count": 34,
   "metadata": {},
   "outputs": [],
   "source": [
    "from ipywidgets import jslink, jsdlink\n",
    "link = jslink((w1,'value1'), (w2, 'value2'))"
   ]
  },
  {
   "cell_type": "code",
   "execution_count": 35,
   "metadata": {},
   "outputs": [],
   "source": [
    "# now both will update\n",
    "w2.value2='yikes!'"
   ]
  },
  {
   "cell_type": "markdown",
   "metadata": {},
   "source": [
    "## Now with a directional change"
   ]
  },
  {
   "cell_type": "code",
   "execution_count": 37,
   "metadata": {},
   "outputs": [
    {
     "data": {
      "application/vnd.jupyter.widget-view+json": {
       "model_id": "b6eda6c00b924a27b5987167e44b17e6",
       "version_major": 2,
       "version_minor": 0
      },
      "text/plain": [
       "widget1()"
      ]
     },
     "metadata": {},
     "output_type": "display_data"
    },
    {
     "data": {
      "application/vnd.jupyter.widget-view+json": {
       "model_id": "806314a4bfc14df8b223ea7c05e0ba70",
       "version_major": 2,
       "version_minor": 0
      },
      "text/plain": [
       "widget2()"
      ]
     },
     "metadata": {},
     "output_type": "display_data"
    }
   ],
   "source": [
    "w1 = jslink_custom_widgets.widget1()\n",
    "w2 = jslink_custom_widgets.widget2()\n",
    "\n",
    "display(w1)\n",
    "display(w2)\n",
    "link = jsdlink((w1,'value1'), (w2, 'value2'))"
   ]
  },
  {
   "cell_type": "code",
   "execution_count": 38,
   "metadata": {},
   "outputs": [],
   "source": [
    "w1.value1 = 'yikes'"
   ]
  },
  {
   "cell_type": "code",
   "execution_count": 40,
   "metadata": {},
   "outputs": [],
   "source": [
    "w2.value2 = 'not reciprocated'"
   ]
  },
  {
   "cell_type": "code",
   "execution_count": null,
   "metadata": {},
   "outputs": [],
   "source": []
  }
 ],
 "metadata": {
  "kernelspec": {
   "display_name": "Python 3",
   "language": "python",
   "name": "python3"
  },
  "language_info": {
   "codemirror_mode": {
    "name": "ipython",
    "version": 3
   },
   "file_extension": ".py",
   "mimetype": "text/x-python",
   "name": "python",
   "nbconvert_exporter": "python",
   "pygments_lexer": "ipython3",
   "version": "3.8.3"
  },
  "widgets": {
   "application/vnd.jupyter.widget-state+json": {
    "state": {
     "04b6925f47a74e389082f8cde0cbc473": {
      "model_module": "@jupyter-widgets/base",
      "model_module_version": "1.2.0",
      "model_name": "LayoutModel",
      "state": {}
     },
     "1b471279d50442d888d9c297f0001a6e": {
      "model_module": "@jupyter-widgets/base",
      "model_module_version": "1.2.0",
      "model_name": "LayoutModel",
      "state": {}
     },
     "2565324319214579836d070bdc08cc4e": {
      "model_module": "jslink-custom-widgets",
      "model_module_version": "^0.1.0",
      "model_name": "widgetModel2",
      "state": {
       "_model_module_version": "^0.1.0",
       "_view_module_version": "^0.1.0",
       "layout": "IPY_MODEL_04b6925f47a74e389082f8cde0cbc473",
       "value2": "yikes!"
      }
     },
     "4466359cfc174b5698115999f1425c2e": {
      "model_module": "@jupyter-widgets/controls",
      "model_module_version": "1.5.0",
      "model_name": "DirectionalLinkModel",
      "state": {
       "source": [
        "IPY_MODEL_b6eda6c00b924a27b5987167e44b17e6",
        "value1"
       ],
       "target": [
        "IPY_MODEL_806314a4bfc14df8b223ea7c05e0ba70",
        "value2"
       ]
      }
     },
     "45a097ee397e48b5b39ff50fee3baad3": {
      "model_module": "@jupyter-widgets/controls",
      "model_module_version": "1.5.0",
      "model_name": "LinkModel",
      "state": {
       "source": [
        "IPY_MODEL_b4567cfc69e843a0ab1bf287859ddc3b",
        "value1"
       ],
       "target": [
        "IPY_MODEL_2565324319214579836d070bdc08cc4e",
        "value2"
       ]
      }
     },
     "611e70034e4447ec81a53d35bc4ac18a": {
      "model_module": "@jupyter-widgets/base",
      "model_module_version": "1.2.0",
      "model_name": "LayoutModel",
      "state": {}
     },
     "806314a4bfc14df8b223ea7c05e0ba70": {
      "model_module": "jslink-custom-widgets",
      "model_module_version": "^0.1.0",
      "model_name": "widgetModel2",
      "state": {
       "_model_module_version": "^0.1.0",
       "_view_module_version": "^0.1.0",
       "layout": "IPY_MODEL_1b471279d50442d888d9c297f0001a6e",
       "value2": "not reciprocated"
      }
     },
     "b4567cfc69e843a0ab1bf287859ddc3b": {
      "model_module": "jslink-custom-widgets",
      "model_module_version": "^0.1.0",
      "model_name": "widgetModel1",
      "state": {
       "_model_module_version": "^0.1.0",
       "_view_module_version": "^0.1.0",
       "layout": "IPY_MODEL_cfd54b26434f4c6fb552b70324594c77",
       "value1": "yikes!"
      }
     },
     "b6eda6c00b924a27b5987167e44b17e6": {
      "model_module": "jslink-custom-widgets",
      "model_module_version": "^0.1.0",
      "model_name": "widgetModel1",
      "state": {
       "_model_module_version": "^0.1.0",
       "_view_module_version": "^0.1.0",
       "layout": "IPY_MODEL_611e70034e4447ec81a53d35bc4ac18a",
       "value1": "yikes"
      }
     },
     "cfd54b26434f4c6fb552b70324594c77": {
      "model_module": "@jupyter-widgets/base",
      "model_module_version": "1.2.0",
      "model_name": "LayoutModel",
      "state": {}
     }
    },
    "version_major": 2,
    "version_minor": 0
   }
  }
 },
 "nbformat": 4,
 "nbformat_minor": 4
}
